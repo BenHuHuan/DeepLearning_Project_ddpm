{
 "cells": [
  {
   "cell_type": "code",
   "execution_count": null,
   "metadata": {
    "vscode": {
     "languageId": "plaintext"
    }
   },
   "outputs": [],
   "source": [
    "def plot_sampled_epoch_images(output_dir, sample_interval=5, images_per_epoch=10,total_epoch=50):\n",
    "    sampled_epochs = range(0, total_epoch, sample_interval) \n",
    "    fig, axes = plt.subplots(len(sampled_epochs), images_per_epoch, figsize=(images_per_epoch * 2, len(sampled_epochs) * 2))\n",
    "    \n",
    "    for i, epoch in enumerate(sampled_epochs):\n",
    "        epoch_dir = os.path.join(output_dir, f\"epoch_{epoch}\")\n",
    "        if not os.path.exists(epoch_dir):\n",
    "            continue\n",
    "        \n",
    "        images = sorted(os.listdir(epoch_dir))[:images_per_epoch]\n",
    "        for j, img_file in enumerate(images):\n",
    "            img_path = os.path.join(epoch_dir, img_file)\n",
    "            if os.path.exists(img_path):\n",
    "                img = Image.open(img_path)\n",
    "                axes[i, j].imshow(img)\n",
    "                axes[i, j].axis('off')\n",
    "                if j == 0:\n",
    "                    axes[i, j].set_ylabel(f\"Epoch {epoch}\", fontsize=12)\n",
    "    for ax, col in zip(axes[0], range(1, images_per_epoch + 1)):\n",
    "        ax.set_title(f\"Image {col}\", fontsize=10)\n",
    "    for ay, row in zip(axes[:,0],range(1, 100,10)):\n",
    "        ay.set_title(f\"Epoch {row}\", fontsize=10)\n",
    "    fig.text(0.5, 0.04, \"Image Number\", ha=\"center\", fontsize=14) \n",
    "    fig.text(0.04, 0.5, \"Epoch (Sampled)\", va=\"center\", rotation=\"vertical\", fontsize=14)\n",
    "\n",
    "    plt.tight_layout(rect=[0.05, 0.05, 1, 1]) \n",
    "    plt.show()\n",
    "output_directory = \"outputs\\CelebA\"\n",
    "plot_sampled_epoch_images(output_directory)"
   ]
  }
 ],
 "metadata": {
  "language_info": {
   "name": "python"
  }
 },
 "nbformat": 4,
 "nbformat_minor": 2
}
